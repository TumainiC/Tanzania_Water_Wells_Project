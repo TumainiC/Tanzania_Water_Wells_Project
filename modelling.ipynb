{
 "cells": [
  {
   "cell_type": "code",
   "execution_count": 2,
   "metadata": {},
   "outputs": [],
   "source": [
    "# importing pandas to load data\n",
    "import pandas as pd\n",
    "# Loading the cleaned data\n",
    "data = pd.read_csv(\"cleaned_data_1.csv\",index_col = 0)"
   ]
  },
  {
   "cell_type": "markdown",
   "metadata": {},
   "source": [
    "## Data preprocessing"
   ]
  },
  {
   "cell_type": "markdown",
   "metadata": {},
   "source": [
    "### Overview\n",
    "\n",
    "In this section we are going to prepare the data for machine learning. The data have to be normalized to change the values of numerical columns ensuring they are of a common scale to prevent features with large values from dominating those with smaller values giving the features have the same influence on the measurement metric."
   ]
  },
  {
   "cell_type": "code",
   "execution_count": 5,
   "metadata": {},
   "outputs": [
    {
     "data": {
      "text/html": [
       "<div>\n",
       "<style scoped>\n",
       "    .dataframe tbody tr th:only-of-type {\n",
       "        vertical-align: middle;\n",
       "    }\n",
       "\n",
       "    .dataframe tbody tr th {\n",
       "        vertical-align: top;\n",
       "    }\n",
       "\n",
       "    .dataframe thead th {\n",
       "        text-align: right;\n",
       "    }\n",
       "</style>\n",
       "<table border=\"1\" class=\"dataframe\">\n",
       "  <thead>\n",
       "    <tr style=\"text-align: right;\">\n",
       "      <th></th>\n",
       "      <th>amount_tsh</th>\n",
       "      <th>gps_height</th>\n",
       "      <th>basin</th>\n",
       "      <th>region</th>\n",
       "      <th>population</th>\n",
       "      <th>permit</th>\n",
       "      <th>extraction_type_class</th>\n",
       "      <th>management_group</th>\n",
       "      <th>payment</th>\n",
       "      <th>quality_group</th>\n",
       "      <th>quantity</th>\n",
       "      <th>source_class</th>\n",
       "      <th>waterpoint_type</th>\n",
       "      <th>status_group</th>\n",
       "    </tr>\n",
       "  </thead>\n",
       "  <tbody>\n",
       "    <tr>\n",
       "      <th>0</th>\n",
       "      <td>6000.0</td>\n",
       "      <td>1390</td>\n",
       "      <td>Lake Nyasa</td>\n",
       "      <td>Iringa</td>\n",
       "      <td>109</td>\n",
       "      <td>False</td>\n",
       "      <td>gravity</td>\n",
       "      <td>user-group</td>\n",
       "      <td>pay annually</td>\n",
       "      <td>good</td>\n",
       "      <td>enough</td>\n",
       "      <td>groundwater</td>\n",
       "      <td>communal standpipe</td>\n",
       "      <td>1</td>\n",
       "    </tr>\n",
       "    <tr>\n",
       "      <th>1</th>\n",
       "      <td>0.0</td>\n",
       "      <td>1399</td>\n",
       "      <td>Lake Victoria</td>\n",
       "      <td>Mara</td>\n",
       "      <td>280</td>\n",
       "      <td>True</td>\n",
       "      <td>gravity</td>\n",
       "      <td>user-group</td>\n",
       "      <td>never pay</td>\n",
       "      <td>good</td>\n",
       "      <td>insufficient</td>\n",
       "      <td>surface</td>\n",
       "      <td>communal standpipe</td>\n",
       "      <td>1</td>\n",
       "    </tr>\n",
       "    <tr>\n",
       "      <th>2</th>\n",
       "      <td>25.0</td>\n",
       "      <td>686</td>\n",
       "      <td>Pangani</td>\n",
       "      <td>Manyara</td>\n",
       "      <td>250</td>\n",
       "      <td>True</td>\n",
       "      <td>gravity</td>\n",
       "      <td>user-group</td>\n",
       "      <td>pay per bucket</td>\n",
       "      <td>good</td>\n",
       "      <td>enough</td>\n",
       "      <td>surface</td>\n",
       "      <td>communal standpipe multiple</td>\n",
       "      <td>1</td>\n",
       "    </tr>\n",
       "    <tr>\n",
       "      <th>3</th>\n",
       "      <td>0.0</td>\n",
       "      <td>263</td>\n",
       "      <td>Ruvuma / Southern Coast</td>\n",
       "      <td>Mtwara</td>\n",
       "      <td>58</td>\n",
       "      <td>True</td>\n",
       "      <td>submersible</td>\n",
       "      <td>user-group</td>\n",
       "      <td>never pay</td>\n",
       "      <td>good</td>\n",
       "      <td>dry</td>\n",
       "      <td>groundwater</td>\n",
       "      <td>communal standpipe multiple</td>\n",
       "      <td>0</td>\n",
       "    </tr>\n",
       "    <tr>\n",
       "      <th>4</th>\n",
       "      <td>0.0</td>\n",
       "      <td>0</td>\n",
       "      <td>Lake Victoria</td>\n",
       "      <td>Kagera</td>\n",
       "      <td>0</td>\n",
       "      <td>True</td>\n",
       "      <td>gravity</td>\n",
       "      <td>other</td>\n",
       "      <td>never pay</td>\n",
       "      <td>good</td>\n",
       "      <td>seasonal</td>\n",
       "      <td>surface</td>\n",
       "      <td>communal standpipe</td>\n",
       "      <td>1</td>\n",
       "    </tr>\n",
       "  </tbody>\n",
       "</table>\n",
       "</div>"
      ],
      "text/plain": [
       "   amount_tsh  gps_height                    basin   region  population  \\\n",
       "0      6000.0        1390               Lake Nyasa   Iringa         109   \n",
       "1         0.0        1399            Lake Victoria     Mara         280   \n",
       "2        25.0         686                  Pangani  Manyara         250   \n",
       "3         0.0         263  Ruvuma / Southern Coast   Mtwara          58   \n",
       "4         0.0           0            Lake Victoria   Kagera           0   \n",
       "\n",
       "  permit extraction_type_class management_group         payment quality_group  \\\n",
       "0  False               gravity       user-group    pay annually          good   \n",
       "1   True               gravity       user-group       never pay          good   \n",
       "2   True               gravity       user-group  pay per bucket          good   \n",
       "3   True           submersible       user-group       never pay          good   \n",
       "4   True               gravity            other       never pay          good   \n",
       "\n",
       "       quantity source_class              waterpoint_type  status_group  \n",
       "0        enough  groundwater           communal standpipe             1  \n",
       "1  insufficient      surface           communal standpipe             1  \n",
       "2        enough      surface  communal standpipe multiple             1  \n",
       "3           dry  groundwater  communal standpipe multiple             0  \n",
       "4      seasonal      surface           communal standpipe             1  "
      ]
     },
     "execution_count": 5,
     "metadata": {},
     "output_type": "execute_result"
    }
   ],
   "source": [
    "# coping the data\n",
    "data_2 = data.copy()\n",
    "# Dropping columns not necessary for modelling\n",
    "data_2.drop([\"id\",\"construction_year\",'funder',\"installer\",\"longitude\",\"latitude\"],\n",
    "            axis = 1,inplace = True)\n",
    "data_2.head()"
   ]
  },
  {
   "cell_type": "code",
   "execution_count": 179,
   "metadata": {},
   "outputs": [],
   "source": [
    "# Importing libraries needed\n",
    "# For Scaling \n",
    "from sklearn.preprocessing import StandardScaler\n",
    "from sklearn.model_selection import train_test_split\n",
    "from sklearn.preprocessing import LabelEncoder"
   ]
  },
  {
   "cell_type": "markdown",
   "metadata": {},
   "source": [
    "We decided to split the data into testing and training set so that the machine learning algorithms can learn from the training set and evaluate its performance using the testing set."
   ]
  },
  {
   "cell_type": "code",
   "execution_count": 180,
   "metadata": {},
   "outputs": [],
   "source": [
    "# Determining the predictor variables\n",
    "X = data_2.drop([\"status_group\"],axis = 1)\n",
    "\n",
    "# Determining the target variables\n",
    "\n",
    "y = data_2.status_group\n",
    "\n",
    "# Splitting the data to training set and testing set\n",
    "X_train, X_test, y_train, y_test = train_test_split(X,y,test_size =0.3,random_state =42)"
   ]
  },
  {
   "cell_type": "code",
   "execution_count": 181,
   "metadata": {},
   "outputs": [
    {
     "name": "stdout",
     "output_type": "stream",
     "text": [
      "X_train has 38984 rows and 13 columns\n",
      "X_test has 16708 rows and 13 columns\n",
      "y_train has 38984 rows\n",
      "y_test has 16708 rows\n"
     ]
    }
   ],
   "source": [
    "# Checking the shape of the split data\n",
    "print(f'X_train has {X_train.shape[0]} rows and {X_train.shape[1]} columns')\n",
    "print(f'X_test has {X_test.shape[0]} rows and {X_test.shape[1]} columns')\n",
    "print(f'y_train has {y_train.shape[0]} rows')\n",
    "print(f'y_test has {y_test.shape[0]} rows')"
   ]
  },
  {
   "cell_type": "markdown",
   "metadata": {},
   "source": [
    "We decide to turn the categorical data into numerical data using pandas method for getting dummies since sklearn only processes numeric data."
   ]
  },
  {
   "cell_type": "code",
   "execution_count": 182,
   "metadata": {},
   "outputs": [],
   "source": [
    "# Converting categorical variable into dummy variables for X_train\n",
    "X_train_cat = pd.get_dummies(X_train.select_dtypes(include = [\"object\"]))\n",
    "\n",
    "# Converting categorical variable into dummy variables for X_test\n",
    "\n",
    "X_test_cat = pd.get_dummies( X_test.select_dtypes(include = [\"object\"]))"
   ]
  },
  {
   "cell_type": "code",
   "execution_count": 183,
   "metadata": {},
   "outputs": [],
   "source": [
    "# Concatenating Numerical values with dummy variables for X_train\n",
    "X_train_2 = pd.concat([X_train.select_dtypes(exclude = [\"object\"]),X_train_cat,],axis = 1)\n",
    "\n",
    "# Concatenating Numerical values with dummy variables for X_test\n",
    "X_test_2 = pd.concat([X_test.select_dtypes(exclude = [\"object\"]),X_test_cat],axis = 1)"
   ]
  },
  {
   "cell_type": "markdown",
   "metadata": {},
   "source": [
    "### Scaling data using StandardScaler"
   ]
  },
  {
   "cell_type": "code",
   "execution_count": 184,
   "metadata": {},
   "outputs": [],
   "source": [
    "# scaling our data\n",
    "\n",
    "# Instantiate StandardScaler\n",
    "\n",
    "scaler = StandardScaler()\n",
    "\n",
    "# Fit and transform X_train\n",
    "\n",
    "X_train_scaled = scaler.fit_transform(X_train_2)\n",
    "\n",
    "# Transform X_test\n",
    "\n",
    "X_test_scaled = scaler.transform(X_test_2)"
   ]
  },
  {
   "cell_type": "markdown",
   "metadata": {},
   "source": [
    "#### LabelEncoding\n",
    "We used LabelEncoder to normalize our target variable."
   ]
  },
  {
   "cell_type": "code",
   "execution_count": 185,
   "metadata": {},
   "outputs": [],
   "source": [
    "# LabelEncoding the target variable\n",
    "\n",
    "# Instantiate LabelEncoder\n",
    "label_encoding = LabelEncoder()\n",
    "\n",
    "# fit_transforming the y_train\n",
    "\n",
    "y_train_2 = label_encoding.fit_transform(y_train)\n",
    "\n",
    "# Transforming y_test\n",
    "\n",
    "y_test_2 = label_encoding.transform(y_test)"
   ]
  },
  {
   "cell_type": "code",
   "execution_count": 186,
   "metadata": {},
   "outputs": [
    {
     "name": "stdout",
     "output_type": "stream",
     "text": [
      "functional                 21223\n",
      "non functional             15092\n",
      "functional needs repair     2669\n",
      "Name: status_group, dtype: int64\n",
      "\n",
      "\n",
      "0    21223\n",
      "2    15092\n",
      "1     2669\n",
      "dtype: int64\n"
     ]
    }
   ],
   "source": [
    "# Checking the labelencoded values for y_train\n",
    "y_train_series = pd.Series(y_train_2)\n",
    "print(y_train.value_counts())\n",
    "print(\"\\n\")\n",
    "print(y_train_series.value_counts())"
   ]
  },
  {
   "cell_type": "code",
   "execution_count": 187,
   "metadata": {},
   "outputs": [
    {
     "name": "stdout",
     "output_type": "stream",
     "text": [
      "functional                 9003\n",
      "non functional             6497\n",
      "functional needs repair    1208\n",
      "Name: status_group, dtype: int64\n",
      "\n",
      "\n",
      "0    9003\n",
      "2    6497\n",
      "1    1208\n",
      "dtype: int64\n"
     ]
    }
   ],
   "source": [
    "# Checking the labelencoded values for y_test\n",
    "y_test_series = pd.Series(y_test_2)\n",
    "print(y_test.value_counts())\n",
    "print(\"\\n\")\n",
    "print(y_test_series.value_counts())"
   ]
  },
  {
   "cell_type": "markdown",
   "metadata": {},
   "source": [
    "For our target variable:\n",
    "\n",
    "`0` represents `functional wells`\n",
    "    \n",
    "`2` represents `non functional wells`\n",
    "    \n",
    "`1` represents  ` functional needs repair`"
   ]
  },
  {
   "cell_type": "markdown",
   "metadata": {},
   "source": [
    "#### SMOTE\n",
    "The study dealt with class imbalance on the train data, by oversampling the minority class and undersampling majority"
   ]
  },
  {
   "cell_type": "code",
   "execution_count": 188,
   "metadata": {},
   "outputs": [],
   "source": [
    "from imblearn.over_sampling import SMOTE\n",
    "# Instantiating smote\n",
    "smote = SMOTE()\n",
    "# Fitting smote\n",
    "X_train_resampled, y_train_resampled = smote.fit_resample(X_train_scaled, y_train_2)"
   ]
  },
  {
   "cell_type": "markdown",
   "metadata": {},
   "source": [
    "# Modeling\n",
    "\n",
    "We want to determine the most suitable machine learning model that will effectively recognize patterns of the wells and give predictions. \n",
    "\n",
    "Models used: \n",
    "\n",
    "`Logistic regression`\n",
    "\n",
    "`RandomForest`\n",
    "\n",
    "`KNearestNeighbours`\n",
    "\n",
    "`Xg boost`\n",
    "\n",
    "In order to determine the best set of hyperparameters for our models, we will use GridSearchCV."
   ]
  },
  {
   "cell_type": "markdown",
   "metadata": {},
   "source": [
    "## `LogisticRegression`"
   ]
  },
  {
   "cell_type": "code",
   "execution_count": 189,
   "metadata": {},
   "outputs": [],
   "source": [
    "# importing necessary library\n",
    "from sklearn.linear_model import LogisticRegression\n",
    "from sklearn.pipeline import Pipeline\n",
    "from sklearn.model_selection import GridSearchCV\n",
    "from sklearn.metrics import accuracy_score\n",
    "from sklearn.model_selection import cross_val_score\n",
    "from sklearn.metrics import confusion_matrix\n",
    "from sklearn.metrics import plot_confusion_matrix"
   ]
  },
  {
   "cell_type": "markdown",
   "metadata": {},
   "source": [
    "#### LogisticRegression baseline model"
   ]
  },
  {
   "cell_type": "code",
   "execution_count": 127,
   "metadata": {},
   "outputs": [
    {
     "name": "stdout",
     "output_type": "stream",
     "text": [
      "Training Accuracy: 62.55%\n",
      "Validation accuracy: 60.88%\n"
     ]
    }
   ],
   "source": [
    "#instantiating logistic regression\n",
    "logreg = LogisticRegression(random_state = 42,\n",
    "                            multi_class =\"multinomial\",\n",
    "                            class_weight = \"balanced\")\n",
    "\n",
    "# Fitting logistic regression\n",
    "logreg.fit(X_train_resampled, y_train_resampled)\n",
    "\n",
    "# Predicting on training and test sets\n",
    "log_training_preds = logreg.predict(X_train_resampled)\n",
    "log_test_preds = logreg.predict(X_test_scaled)\n",
    "\n",
    "# Accuracy of training and test sets\n",
    "log_training_accuracy = accuracy_score(y_train_resampled, log_training_preds)\n",
    "log_test_accuracy = accuracy_score(y_test_2, log_test_preds)\n",
    "\n",
    "print('Training Accuracy: {:.4}%'.format(log_training_accuracy * 100))\n",
    "print('Validation accuracy: {:.4}%'.format(log_test_accuracy * 100))"
   ]
  },
  {
   "cell_type": "markdown",
   "metadata": {},
   "source": [
    "The training and validation accuracy scores are close to each other implying very minimal overfitting.\n",
    "\n",
    "This accuracy does not meet our target thus we use hyperparameter tuning to see if the accuracy will improve\n",
    "\n",
    "This model"
   ]
  },
  {
   "cell_type": "code",
   "execution_count": 64,
   "metadata": {},
   "outputs": [],
   "source": [
    "# Creating a parameter grid for logistiv regression\n",
    "param_grid = [{'penalty' : ['l1', 'l2'],\n",
    "               'C' : np.logspace(-1, 1, 5),\n",
    "               'solver' : ['lbfgs','newton-cg']}]"
   ]
  },
  {
   "cell_type": "code",
   "execution_count": 65,
   "metadata": {},
   "outputs": [],
   "source": [
    "# Create a GridSearchCv\n",
    "logreg_clf = GridSearchCV(estimator = logreg,\n",
    "                          param_grid = param_grid,\n",
    "                          cv = 3, verbose=True, n_jobs=-1)"
   ]
  },
  {
   "cell_type": "code",
   "execution_count": 190,
   "metadata": {},
   "outputs": [
    {
     "name": "stdout",
     "output_type": "stream",
     "text": [
      "Fitting 3 folds for each of 20 candidates, totalling 60 fits\n"
     ]
    }
   ],
   "source": [
    "# Fitting using grid search\n",
    "best_clf = logreg_clf.fit(X_train_resampled,y_train_resampled)"
   ]
  },
  {
   "cell_type": "code",
   "execution_count": 67,
   "metadata": {},
   "outputs": [
    {
     "data": {
      "text/plain": [
       "{'C': 0.1, 'penalty': 'l2', 'solver': 'lbfgs'}"
      ]
     },
     "execution_count": 67,
     "metadata": {},
     "output_type": "execute_result"
    }
   ],
   "source": [
    "# Getting the best hyperparameters for our logistic regression \n",
    "best_clf.best_params_"
   ]
  },
  {
   "cell_type": "markdown",
   "metadata": {},
   "source": [
    "### Tuned LogisticRegression model"
   ]
  },
  {
   "cell_type": "code",
   "execution_count": 191,
   "metadata": {},
   "outputs": [],
   "source": [
    "# Instantiating logistic regression model using the best parameters from the grid search\n",
    "best_logreg = LogisticRegression(random_state = 42,multi_class =\"multinomial\",\n",
    "                                 class_weight = \"balanced\",\n",
    "                                 C = 0.1,penalty = \"l2\",\n",
    "                                solver = \"lbfgs\")"
   ]
  },
  {
   "cell_type": "code",
   "execution_count": 193,
   "metadata": {},
   "outputs": [
    {
     "data": {
      "text/html": [
       "<style>#sk-container-id-5 {color: black;background-color: white;}#sk-container-id-5 pre{padding: 0;}#sk-container-id-5 div.sk-toggleable {background-color: white;}#sk-container-id-5 label.sk-toggleable__label {cursor: pointer;display: block;width: 100%;margin-bottom: 0;padding: 0.3em;box-sizing: border-box;text-align: center;}#sk-container-id-5 label.sk-toggleable__label-arrow:before {content: \"▸\";float: left;margin-right: 0.25em;color: #696969;}#sk-container-id-5 label.sk-toggleable__label-arrow:hover:before {color: black;}#sk-container-id-5 div.sk-estimator:hover label.sk-toggleable__label-arrow:before {color: black;}#sk-container-id-5 div.sk-toggleable__content {max-height: 0;max-width: 0;overflow: hidden;text-align: left;background-color: #f0f8ff;}#sk-container-id-5 div.sk-toggleable__content pre {margin: 0.2em;color: black;border-radius: 0.25em;background-color: #f0f8ff;}#sk-container-id-5 input.sk-toggleable__control:checked~div.sk-toggleable__content {max-height: 200px;max-width: 100%;overflow: auto;}#sk-container-id-5 input.sk-toggleable__control:checked~label.sk-toggleable__label-arrow:before {content: \"▾\";}#sk-container-id-5 div.sk-estimator input.sk-toggleable__control:checked~label.sk-toggleable__label {background-color: #d4ebff;}#sk-container-id-5 div.sk-label input.sk-toggleable__control:checked~label.sk-toggleable__label {background-color: #d4ebff;}#sk-container-id-5 input.sk-hidden--visually {border: 0;clip: rect(1px 1px 1px 1px);clip: rect(1px, 1px, 1px, 1px);height: 1px;margin: -1px;overflow: hidden;padding: 0;position: absolute;width: 1px;}#sk-container-id-5 div.sk-estimator {font-family: monospace;background-color: #f0f8ff;border: 1px dotted black;border-radius: 0.25em;box-sizing: border-box;margin-bottom: 0.5em;}#sk-container-id-5 div.sk-estimator:hover {background-color: #d4ebff;}#sk-container-id-5 div.sk-parallel-item::after {content: \"\";width: 100%;border-bottom: 1px solid gray;flex-grow: 1;}#sk-container-id-5 div.sk-label:hover label.sk-toggleable__label {background-color: #d4ebff;}#sk-container-id-5 div.sk-serial::before {content: \"\";position: absolute;border-left: 1px solid gray;box-sizing: border-box;top: 0;bottom: 0;left: 50%;z-index: 0;}#sk-container-id-5 div.sk-serial {display: flex;flex-direction: column;align-items: center;background-color: white;padding-right: 0.2em;padding-left: 0.2em;position: relative;}#sk-container-id-5 div.sk-item {position: relative;z-index: 1;}#sk-container-id-5 div.sk-parallel {display: flex;align-items: stretch;justify-content: center;background-color: white;position: relative;}#sk-container-id-5 div.sk-item::before, #sk-container-id-5 div.sk-parallel-item::before {content: \"\";position: absolute;border-left: 1px solid gray;box-sizing: border-box;top: 0;bottom: 0;left: 50%;z-index: -1;}#sk-container-id-5 div.sk-parallel-item {display: flex;flex-direction: column;z-index: 1;position: relative;background-color: white;}#sk-container-id-5 div.sk-parallel-item:first-child::after {align-self: flex-end;width: 50%;}#sk-container-id-5 div.sk-parallel-item:last-child::after {align-self: flex-start;width: 50%;}#sk-container-id-5 div.sk-parallel-item:only-child::after {width: 0;}#sk-container-id-5 div.sk-dashed-wrapped {border: 1px dashed gray;margin: 0 0.4em 0.5em 0.4em;box-sizing: border-box;padding-bottom: 0.4em;background-color: white;}#sk-container-id-5 div.sk-label label {font-family: monospace;font-weight: bold;display: inline-block;line-height: 1.2em;}#sk-container-id-5 div.sk-label-container {text-align: center;}#sk-container-id-5 div.sk-container {/* jupyter's `normalize.less` sets `[hidden] { display: none; }` but bootstrap.min.css set `[hidden] { display: none !important; }` so we also need the `!important` here to be able to override the default hidden behavior on the sphinx rendered scikit-learn.org. See: https://github.com/scikit-learn/scikit-learn/issues/21755 */display: inline-block !important;position: relative;}#sk-container-id-5 div.sk-text-repr-fallback {display: none;}</style><div id=\"sk-container-id-5\" class=\"sk-top-container\"><div class=\"sk-text-repr-fallback\"><pre>LogisticRegression(C=0.1, class_weight=&#x27;balanced&#x27;, multi_class=&#x27;multinomial&#x27;,\n",
       "                   random_state=42)</pre><b>In a Jupyter environment, please rerun this cell to show the HTML representation or trust the notebook. <br />On GitHub, the HTML representation is unable to render, please try loading this page with nbviewer.org.</b></div><div class=\"sk-container\" hidden><div class=\"sk-item\"><div class=\"sk-estimator sk-toggleable\"><input class=\"sk-toggleable__control sk-hidden--visually\" id=\"sk-estimator-id-7\" type=\"checkbox\" checked><label for=\"sk-estimator-id-7\" class=\"sk-toggleable__label sk-toggleable__label-arrow\">LogisticRegression</label><div class=\"sk-toggleable__content\"><pre>LogisticRegression(C=0.1, class_weight=&#x27;balanced&#x27;, multi_class=&#x27;multinomial&#x27;,\n",
       "                   random_state=42)</pre></div></div></div></div></div>"
      ],
      "text/plain": [
       "LogisticRegression(C=0.1, class_weight='balanced', multi_class='multinomial',\n",
       "                   random_state=42)"
      ]
     },
     "execution_count": 193,
     "metadata": {},
     "output_type": "execute_result"
    }
   ],
   "source": [
    "# Fitting the model\n",
    "best_logreg.fit(X_train_resampled,y_train_resampled)"
   ]
  },
  {
   "cell_type": "markdown",
   "metadata": {},
   "source": [
    "#### Evaluating LogisticRegression model"
   ]
  },
  {
   "cell_type": "code",
   "execution_count": 195,
   "metadata": {},
   "outputs": [],
   "source": [
    "# Function that makes y predicted values\n",
    "def make_preds(model, split):\n",
    "    \"\"\" A function that makes predictions\"\"\"\n",
    "    prediction = model.predict(split)\n",
    "    return prediction"
   ]
  },
  {
   "cell_type": "code",
   "execution_count": 197,
   "metadata": {},
   "outputs": [
    {
     "data": {
      "image/png": "[encoded data removed]",
      "text/plain": [
       "<Figure size 432x288 with 2 Axes>"
      ]
     },
     "metadata": {},
     "output_type": "display_data"
    }
   ],
   "source": [
    "# Confusion matrix for trainig data\n",
    "plot_confusion_matrix(best_logreg, X_train_resampled, y_train_resampled)\n",
    "plt.show()"
   ]
  },
  {
   "cell_type": "code",
   "execution_count": 75,
   "metadata": {},
   "outputs": [
    {
     "data": {
      "image/png": "[encoded data removed]",
      "text/plain": [
       "<Figure size 432x288 with 2 Axes>"
      ]
     },
     "metadata": {},
     "output_type": "display_data"
    }
   ],
   "source": [
    "# Confusion matrix for testing data\n",
    "plot_confusion_matrix(best_logreg, X_test_scaled, y_test_2)\n",
    "plt.show()"
   ]
  },
  {
   "cell_type": "code",
   "execution_count": 198,
   "metadata": {},
   "outputs": [
    {
     "name": "stdout",
     "output_type": "stream",
     "text": [
      "Training Accuracy: 62.54%\n",
      "Validation accuracy: 61.08%\n"
     ]
    }
   ],
   "source": [
    "# Predict on training and test sets\n",
    "best_logreg_training_preds = best_logreg.predict(X_train_resampled)\n",
    "best_logreg_preds = best_logreg.predict(X_test_scaled)\n",
    "\n",
    "\n",
    "# Accuracy of training and test sets\n",
    "best_logreg_training_accuracy = accuracy_score(y_train_resampled, best_logreg_training_preds)\n",
    "best_logreg_test_accuracy = accuracy_score(y_test_2, best_logreg_preds)\n",
    "\n",
    "print('Training Accuracy: {:.4}%'.format(best_logreg_training_accuracy * 100))\n",
    "print('Validation accuracy: {:.4}%'.format(best_logreg_test_accuracy * 100))"
   ]
  },
  {
   "cell_type": "code",
   "execution_count": 200,
   "metadata": {},
   "outputs": [
    {
     "name": "stdout",
     "output_type": "stream",
     "text": [
      "Train cross validation: 0.624778234232209\n",
      "Test cross validation: 0.621678057881594\n"
     ]
    }
   ],
   "source": [
    "# validate logistic regression\n",
    "\n",
    "#train cross validation\n",
    "best_logreg_train_cv_score = cross_val_score(best_logreg, X_train_resampled,\n",
    "                                        y_train_resampled, cv = 5, n_jobs = -1).mean()\n",
    "print('Train cross validation:', best_logreg_train_cv_score)\n",
    "\n",
    "#test cross validation\n",
    "best_logreg_test_cv_score = cross_val_score(best_logreg, X_test_scaled, y_test_2,\n",
    "                                       cv = 5, n_jobs = -1).mean()\n",
    "print('Test cross validation:', best_logreg_test_cv_score)"
   ]
  },
  {
   "cell_type": "markdown",
   "metadata": {},
   "source": [
    "The tuned logistic regression does not overfit but it doesn't meet our target thus we try another machine learning algorithm"
   ]
  },
  {
   "cell_type": "markdown",
   "metadata": {},
   "source": [
    "### `RandomForestClassifier`"
   ]
  },
  {
   "cell_type": "code",
   "execution_count": 92,
   "metadata": {},
   "outputs": [],
   "source": [
    "# Importing RandomForestClassifier library\n",
    "from sklearn.ensemble import RandomForestClassifier"
   ]
  },
  {
   "cell_type": "markdown",
   "metadata": {},
   "source": [
    "#### `RandomForestClassifier baseline model`"
   ]
  },
  {
   "cell_type": "code",
   "execution_count": 201,
   "metadata": {},
   "outputs": [
    {
     "name": "stdout",
     "output_type": "stream",
     "text": [
      "Training Accuracy: 93.21%\n",
      "Validation accuracy: 73.95%\n"
     ]
    }
   ],
   "source": [
    "# instantiating RandomForestClassifier\n",
    "RF = RandomForestClassifier()\n",
    "# Fitting RandomForestClassifier\n",
    "RF.fit(X_train_resampled, y_train_resampled)\n",
    "\n",
    "# Predict on training and test sets\n",
    "RF_training_preds = RF.predict(X_train_resampled)\n",
    "RF_test_preds = RF.predict(X_test_scaled)\n",
    "\n",
    "# Accuracy of training and test sets\n",
    "RF_training_accuracy = accuracy_score(y_train_resampled, RF_training_preds)\n",
    "RF_test_accuracy = accuracy_score(y_test_2, RF_test_preds)\n",
    "\n",
    "print('Training Accuracy: {:.4}%'.format(RF_training_accuracy * 100))\n",
    "print('Validation accuracy: {:.4}%'.format(RF_test_accuracy * 100))"
   ]
  },
  {
   "cell_type": "markdown",
   "metadata": {},
   "source": [
    "This Random forest baseline model is overfitting the training data so we are going to do a grid search to get the best hyperparameters that would reduce overfitting."
   ]
  },
  {
   "cell_type": "code",
   "execution_count": 202,
   "metadata": {},
   "outputs": [],
   "source": [
    "# Creating a parameter grid\n",
    "param_grid = { \n",
    "    'n_estimators': [100, 200],\n",
    "    'max_features': ['auto', 'sqrt', 'log2'],\n",
    "    'max_depth' : [4,5,6],\n",
    "    'criterion' :['gini', 'entropy']}"
   ]
  },
  {
   "cell_type": "code",
   "execution_count": 203,
   "metadata": {},
   "outputs": [
    {
     "data": {
      "text/html": [
       "<style>#sk-container-id-6 {color: black;background-color: white;}#sk-container-id-6 pre{padding: 0;}#sk-container-id-6 div.sk-toggleable {background-color: white;}#sk-container-id-6 label.sk-toggleable__label {cursor: pointer;display: block;width: 100%;margin-bottom: 0;padding: 0.3em;box-sizing: border-box;text-align: center;}#sk-container-id-6 label.sk-toggleable__label-arrow:before {content: \"▸\";float: left;margin-right: 0.25em;color: #696969;}#sk-container-id-6 label.sk-toggleable__label-arrow:hover:before {color: black;}#sk-container-id-6 div.sk-estimator:hover label.sk-toggleable__label-arrow:before {color: black;}#sk-container-id-6 div.sk-toggleable__content {max-height: 0;max-width: 0;overflow: hidden;text-align: left;background-color: #f0f8ff;}#sk-container-id-6 div.sk-toggleable__content pre {margin: 0.2em;color: black;border-radius: 0.25em;background-color: #f0f8ff;}#sk-container-id-6 input.sk-toggleable__control:checked~div.sk-toggleable__content {max-height: 200px;max-width: 100%;overflow: auto;}#sk-container-id-6 input.sk-toggleable__control:checked~label.sk-toggleable__label-arrow:before {content: \"▾\";}#sk-container-id-6 div.sk-estimator input.sk-toggleable__control:checked~label.sk-toggleable__label {background-color: #d4ebff;}#sk-container-id-6 div.sk-label input.sk-toggleable__control:checked~label.sk-toggleable__label {background-color: #d4ebff;}#sk-container-id-6 input.sk-hidden--visually {border: 0;clip: rect(1px 1px 1px 1px);clip: rect(1px, 1px, 1px, 1px);height: 1px;margin: -1px;overflow: hidden;padding: 0;position: absolute;width: 1px;}#sk-container-id-6 div.sk-estimator {font-family: monospace;background-color: #f0f8ff;border: 1px dotted black;border-radius: 0.25em;box-sizing: border-box;margin-bottom: 0.5em;}#sk-container-id-6 div.sk-estimator:hover {background-color: #d4ebff;}#sk-container-id-6 div.sk-parallel-item::after {content: \"\";width: 100%;border-bottom: 1px solid gray;flex-grow: 1;}#sk-container-id-6 div.sk-label:hover label.sk-toggleable__label {background-color: #d4ebff;}#sk-container-id-6 div.sk-serial::before {content: \"\";position: absolute;border-left: 1px solid gray;box-sizing: border-box;top: 0;bottom: 0;left: 50%;z-index: 0;}#sk-container-id-6 div.sk-serial {display: flex;flex-direction: column;align-items: center;background-color: white;padding-right: 0.2em;padding-left: 0.2em;position: relative;}#sk-container-id-6 div.sk-item {position: relative;z-index: 1;}#sk-container-id-6 div.sk-parallel {display: flex;align-items: stretch;justify-content: center;background-color: white;position: relative;}#sk-container-id-6 div.sk-item::before, #sk-container-id-6 div.sk-parallel-item::before {content: \"\";position: absolute;border-left: 1px solid gray;box-sizing: border-box;top: 0;bottom: 0;left: 50%;z-index: -1;}#sk-container-id-6 div.sk-parallel-item {display: flex;flex-direction: column;z-index: 1;position: relative;background-color: white;}#sk-container-id-6 div.sk-parallel-item:first-child::after {align-self: flex-end;width: 50%;}#sk-container-id-6 div.sk-parallel-item:last-child::after {align-self: flex-start;width: 50%;}#sk-container-id-6 div.sk-parallel-item:only-child::after {width: 0;}#sk-container-id-6 div.sk-dashed-wrapped {border: 1px dashed gray;margin: 0 0.4em 0.5em 0.4em;box-sizing: border-box;padding-bottom: 0.4em;background-color: white;}#sk-container-id-6 div.sk-label label {font-family: monospace;font-weight: bold;display: inline-block;line-height: 1.2em;}#sk-container-id-6 div.sk-label-container {text-align: center;}#sk-container-id-6 div.sk-container {/* jupyter's `normalize.less` sets `[hidden] { display: none; }` but bootstrap.min.css set `[hidden] { display: none !important; }` so we also need the `!important` here to be able to override the default hidden behavior on the sphinx rendered scikit-learn.org. See: https://github.com/scikit-learn/scikit-learn/issues/21755 */display: inline-block !important;position: relative;}#sk-container-id-6 div.sk-text-repr-fallback {display: none;}</style><div id=\"sk-container-id-6\" class=\"sk-top-container\"><div class=\"sk-text-repr-fallback\"><pre>GridSearchCV(cv=5, estimator=RandomForestClassifier(),\n",
       "             param_grid={&#x27;criterion&#x27;: [&#x27;gini&#x27;, &#x27;entropy&#x27;],\n",
       "                         &#x27;max_depth&#x27;: [4, 5, 6],\n",
       "                         &#x27;max_features&#x27;: [&#x27;auto&#x27;, &#x27;sqrt&#x27;, &#x27;log2&#x27;],\n",
       "                         &#x27;n_estimators&#x27;: [100, 200]})</pre><b>In a Jupyter environment, please rerun this cell to show the HTML representation or trust the notebook. <br />On GitHub, the HTML representation is unable to render, please try loading this page with nbviewer.org.</b></div><div class=\"sk-container\" hidden><div class=\"sk-item sk-dashed-wrapped\"><div class=\"sk-label-container\"><div class=\"sk-label sk-toggleable\"><input class=\"sk-toggleable__control sk-hidden--visually\" id=\"sk-estimator-id-8\" type=\"checkbox\" ><label for=\"sk-estimator-id-8\" class=\"sk-toggleable__label sk-toggleable__label-arrow\">GridSearchCV</label><div class=\"sk-toggleable__content\"><pre>GridSearchCV(cv=5, estimator=RandomForestClassifier(),\n",
       "             param_grid={&#x27;criterion&#x27;: [&#x27;gini&#x27;, &#x27;entropy&#x27;],\n",
       "                         &#x27;max_depth&#x27;: [4, 5, 6],\n",
       "                         &#x27;max_features&#x27;: [&#x27;auto&#x27;, &#x27;sqrt&#x27;, &#x27;log2&#x27;],\n",
       "                         &#x27;n_estimators&#x27;: [100, 200]})</pre></div></div></div><div class=\"sk-parallel\"><div class=\"sk-parallel-item\"><div class=\"sk-item\"><div class=\"sk-label-container\"><div class=\"sk-label sk-toggleable\"><input class=\"sk-toggleable__control sk-hidden--visually\" id=\"sk-estimator-id-9\" type=\"checkbox\" ><label for=\"sk-estimator-id-9\" class=\"sk-toggleable__label sk-toggleable__label-arrow\">estimator: RandomForestClassifier</label><div class=\"sk-toggleable__content\"><pre>RandomForestClassifier()</pre></div></div></div><div class=\"sk-serial\"><div class=\"sk-item\"><div class=\"sk-estimator sk-toggleable\"><input class=\"sk-toggleable__control sk-hidden--visually\" id=\"sk-estimator-id-10\" type=\"checkbox\" ><label for=\"sk-estimator-id-10\" class=\"sk-toggleable__label sk-toggleable__label-arrow\">RandomForestClassifier</label><div class=\"sk-toggleable__content\"><pre>RandomForestClassifier()</pre></div></div></div></div></div></div></div></div></div></div>"
      ],
      "text/plain": [
       "GridSearchCV(cv=5, estimator=RandomForestClassifier(),\n",
       "             param_grid={'criterion': ['gini', 'entropy'],\n",
       "                         'max_depth': [4, 5, 6],\n",
       "                         'max_features': ['auto', 'sqrt', 'log2'],\n",
       "                         'n_estimators': [100, 200]})"
      ]
     },
     "execution_count": 203,
     "metadata": {},
     "output_type": "execute_result"
    }
   ],
   "source": [
    "# Grid searching\n",
    "RF_CV = GridSearchCV(estimator=RF, param_grid=param_grid, cv= 5)\n",
    "RF_CV.fit(X_train_resampled,y_train_resampled)"
   ]
  },
  {
   "cell_type": "code",
   "execution_count": 204,
   "metadata": {},
   "outputs": [
    {
     "data": {
      "text/plain": [
       "{'criterion': 'entropy',\n",
       " 'max_depth': 6,\n",
       " 'max_features': 'sqrt',\n",
       " 'n_estimators': 200}"
      ]
     },
     "execution_count": 204,
     "metadata": {},
     "output_type": "execute_result"
    }
   ],
   "source": [
    "# Getting the best hyperparameters for our RandomForestClassifier\n",
    "RF_CV.best_params_"
   ]
  },
  {
   "cell_type": "markdown",
   "metadata": {},
   "source": [
    "### Iterated random forest "
   ]
  },
  {
   "cell_type": "code",
   "execution_count": 205,
   "metadata": {},
   "outputs": [],
   "source": [
    "# Instantiating RandomForestClassifier model using the best parameters from the grid search\n",
    "best_forest = RandomForestClassifier(criterion = 'entropy',max_depth = 6, max_features= 'sqrt',\n",
    "                                     n_estimators = 200)"
   ]
  },
  {
   "cell_type": "code",
   "execution_count": 206,
   "metadata": {},
   "outputs": [
    {
     "data": {
      "text/html": [
       "<style>#sk-container-id-7 {color: black;background-color: white;}#sk-container-id-7 pre{padding: 0;}#sk-container-id-7 div.sk-toggleable {background-color: white;}#sk-container-id-7 label.sk-toggleable__label {cursor: pointer;display: block;width: 100%;margin-bottom: 0;padding: 0.3em;box-sizing: border-box;text-align: center;}#sk-container-id-7 label.sk-toggleable__label-arrow:before {content: \"▸\";float: left;margin-right: 0.25em;color: #696969;}#sk-container-id-7 label.sk-toggleable__label-arrow:hover:before {color: black;}#sk-container-id-7 div.sk-estimator:hover label.sk-toggleable__label-arrow:before {color: black;}#sk-container-id-7 div.sk-toggleable__content {max-height: 0;max-width: 0;overflow: hidden;text-align: left;background-color: #f0f8ff;}#sk-container-id-7 div.sk-toggleable__content pre {margin: 0.2em;color: black;border-radius: 0.25em;background-color: #f0f8ff;}#sk-container-id-7 input.sk-toggleable__control:checked~div.sk-toggleable__content {max-height: 200px;max-width: 100%;overflow: auto;}#sk-container-id-7 input.sk-toggleable__control:checked~label.sk-toggleable__label-arrow:before {content: \"▾\";}#sk-container-id-7 div.sk-estimator input.sk-toggleable__control:checked~label.sk-toggleable__label {background-color: #d4ebff;}#sk-container-id-7 div.sk-label input.sk-toggleable__control:checked~label.sk-toggleable__label {background-color: #d4ebff;}#sk-container-id-7 input.sk-hidden--visually {border: 0;clip: rect(1px 1px 1px 1px);clip: rect(1px, 1px, 1px, 1px);height: 1px;margin: -1px;overflow: hidden;padding: 0;position: absolute;width: 1px;}#sk-container-id-7 div.sk-estimator {font-family: monospace;background-color: #f0f8ff;border: 1px dotted black;border-radius: 0.25em;box-sizing: border-box;margin-bottom: 0.5em;}#sk-container-id-7 div.sk-estimator:hover {background-color: #d4ebff;}#sk-container-id-7 div.sk-parallel-item::after {content: \"\";width: 100%;border-bottom: 1px solid gray;flex-grow: 1;}#sk-container-id-7 div.sk-label:hover label.sk-toggleable__label {background-color: #d4ebff;}#sk-container-id-7 div.sk-serial::before {content: \"\";position: absolute;border-left: 1px solid gray;box-sizing: border-box;top: 0;bottom: 0;left: 50%;z-index: 0;}#sk-container-id-7 div.sk-serial {display: flex;flex-direction: column;align-items: center;background-color: white;padding-right: 0.2em;padding-left: 0.2em;position: relative;}#sk-container-id-7 div.sk-item {position: relative;z-index: 1;}#sk-container-id-7 div.sk-parallel {display: flex;align-items: stretch;justify-content: center;background-color: white;position: relative;}#sk-container-id-7 div.sk-item::before, #sk-container-id-7 div.sk-parallel-item::before {content: \"\";position: absolute;border-left: 1px solid gray;box-sizing: border-box;top: 0;bottom: 0;left: 50%;z-index: -1;}#sk-container-id-7 div.sk-parallel-item {display: flex;flex-direction: column;z-index: 1;position: relative;background-color: white;}#sk-container-id-7 div.sk-parallel-item:first-child::after {align-self: flex-end;width: 50%;}#sk-container-id-7 div.sk-parallel-item:last-child::after {align-self: flex-start;width: 50%;}#sk-container-id-7 div.sk-parallel-item:only-child::after {width: 0;}#sk-container-id-7 div.sk-dashed-wrapped {border: 1px dashed gray;margin: 0 0.4em 0.5em 0.4em;box-sizing: border-box;padding-bottom: 0.4em;background-color: white;}#sk-container-id-7 div.sk-label label {font-family: monospace;font-weight: bold;display: inline-block;line-height: 1.2em;}#sk-container-id-7 div.sk-label-container {text-align: center;}#sk-container-id-7 div.sk-container {/* jupyter's `normalize.less` sets `[hidden] { display: none; }` but bootstrap.min.css set `[hidden] { display: none !important; }` so we also need the `!important` here to be able to override the default hidden behavior on the sphinx rendered scikit-learn.org. See: https://github.com/scikit-learn/scikit-learn/issues/21755 */display: inline-block !important;position: relative;}#sk-container-id-7 div.sk-text-repr-fallback {display: none;}</style><div id=\"sk-container-id-7\" class=\"sk-top-container\"><div class=\"sk-text-repr-fallback\"><pre>RandomForestClassifier(criterion=&#x27;entropy&#x27;, max_depth=6, n_estimators=200)</pre><b>In a Jupyter environment, please rerun this cell to show the HTML representation or trust the notebook. <br />On GitHub, the HTML representation is unable to render, please try loading this page with nbviewer.org.</b></div><div class=\"sk-container\" hidden><div class=\"sk-item\"><div class=\"sk-estimator sk-toggleable\"><input class=\"sk-toggleable__control sk-hidden--visually\" id=\"sk-estimator-id-11\" type=\"checkbox\" checked><label for=\"sk-estimator-id-11\" class=\"sk-toggleable__label sk-toggleable__label-arrow\">RandomForestClassifier</label><div class=\"sk-toggleable__content\"><pre>RandomForestClassifier(criterion=&#x27;entropy&#x27;, max_depth=6, n_estimators=200)</pre></div></div></div></div></div>"
      ],
      "text/plain": [
       "RandomForestClassifier(criterion='entropy', max_depth=6, n_estimators=200)"
      ]
     },
     "execution_count": 206,
     "metadata": {},
     "output_type": "execute_result"
    }
   ],
   "source": [
    "# Fitting the model\n",
    "best_forest.fit(X_train_scaled,y_train_2)"
   ]
  },
  {
   "cell_type": "markdown",
   "metadata": {},
   "source": [
    "#### Evaluating random forest model"
   ]
  },
  {
   "cell_type": "code",
   "execution_count": 210,
   "metadata": {},
   "outputs": [
    {
     "data": {
      "image/png": "[encoded data removed]",
      "text/plain": [
       "<Figure size 432x288 with 2 Axes>"
      ]
     },
     "metadata": {},
     "output_type": "display_data"
    }
   ],
   "source": [
    "# Confusion matrix for trainig data\n",
    "plot_confusion_matrix(best_forest, X_train_resampled, y_train_resampled)\n",
    "plt.show()"
   ]
  },
  {
   "cell_type": "code",
   "execution_count": 211,
   "metadata": {},
   "outputs": [
    {
     "data": {
      "image/png": "[encoded data removed]",
      "text/plain": [
       "<Figure size 432x288 with 2 Axes>"
      ]
     },
     "metadata": {},
     "output_type": "display_data"
    }
   ],
   "source": [
    "# Confusion matrix for testing data\n",
    "plot_confusion_matrix(best_forest, X_test_scaled, y_test_2)\n",
    "plt.show()"
   ]
  },
  {
   "cell_type": "code",
   "execution_count": 213,
   "metadata": {},
   "outputs": [
    {
     "name": "stdout",
     "output_type": "stream",
     "text": [
      "Training Accuracy: 49.13%\n",
      "Validation accuracy: 71.48%\n"
     ]
    }
   ],
   "source": [
    "# Predict on training and test sets\n",
    "best_forest_training_preds = best_forest.predict(X_train_resampled)\n",
    "best_forest_preds = best_forest.predict(X_test_scaled)\n",
    "\n",
    "\n",
    "# Accuracy of training and test sets\n",
    "best_forest_training_accuracy = accuracy_score(y_train_resampled, best_forest_training_preds)\n",
    "best_forest_test_accuracy = accuracy_score(y_test_2, best_forest_preds)\n",
    "\n",
    "print('Training Accuracy: {:.4}%'.format(best_forest_training_accuracy * 100))\n",
    "print('Validation accuracy: {:.4}%'.format(best_forest_test_accuracy * 100))"
   ]
  },
  {
   "cell_type": "code",
   "execution_count": 214,
   "metadata": {},
   "outputs": [
    {
     "name": "stdout",
     "output_type": "stream",
     "text": [
      "Train cross validation: 0.6615150266227715\n",
      "Test cross validation: 0.7153461222312559\n"
     ]
    }
   ],
   "source": [
    "# validate RandomForest regressor\n",
    "\n",
    "#train cross validation\n",
    "best_forest_train_cv_score = cross_val_score(best_forest, X_train_resampled,\n",
    "                                        y_train_resampled, cv = 5, n_jobs = -1).mean()\n",
    "print('Train cross validation:', best_forest_train_cv_score)\n",
    "\n",
    "#test cross validation\n",
    "best_forest_test_cv_score = cross_val_score(best_forest, X_test_scaled, y_test_2,\n",
    "                                       cv = 5, n_jobs = -1).mean()\n",
    "print('Test cross validation:', best_forest_test_cv_score)"
   ]
  },
  {
   "cell_type": "markdown",
   "metadata": {},
   "source": [
    "The hyperparameter tuned random forest model seems to underfit the training data therefore we will use another machine learning algorithm."
   ]
  },
  {
   "cell_type": "markdown",
   "metadata": {},
   "source": [
    "### `KNeighborsClassifier`"
   ]
  },
  {
   "cell_type": "code",
   "execution_count": 215,
   "metadata": {},
   "outputs": [],
   "source": [
    "# Importing KNeighborsClassifier library\n",
    "from sklearn.neighbors import KNeighborsClassifier"
   ]
  },
  {
   "cell_type": "code",
   "execution_count": 218,
   "metadata": {},
   "outputs": [
    {
     "name": "stdout",
     "output_type": "stream",
     "text": [
      "Train accuracy: 80.093923259357\n",
      "Test accuracy: 71.15154417045727\n"
     ]
    }
   ],
   "source": [
    "#instantiate baseline model\n",
    "knn_clf = KNeighborsClassifier()\n",
    "\n",
    "#fit KNearest Neighbors\n",
    "knn_clf.fit(X_train_resampled, y_train_resampled)\n",
    "\n",
    "#predict on the test set\n",
    "y_hat_train = knn_clf.predict(X_train_resampled)\n",
    "y_hat_test = knn_clf.predict(X_test_scaled)\n",
    "\n",
    "#train accuracy \n",
    "knn_train_accuracy = accuracy_score(y_train_resampled, y_hat_train) * 100\n",
    "print('Train accuracy: {0}'.format(knn_train_accuracy))\n",
    "\n",
    "#test accuracy \n",
    "knn_test_accuracy = accuracy_score(y_test_2, y_hat_test) * 100\n",
    "print('Test accuracy: {0}'.format(knn_test_accuracy))"
   ]
  },
  {
   "cell_type": "markdown",
   "metadata": {},
   "source": [
    "KNeighborsClassifier baseline model seems to be slightly overfitting but the validation accuracy is within our target range.\n",
    "\n",
    "We will try another model to see if we can reduce overfitting."
   ]
  },
  {
   "cell_type": "code",
   "execution_count": 243,
   "metadata": {},
   "outputs": [
    {
     "data": {
      "text/plain": [
       "{'n_neighbors': 5, 'weights': 'distance'}"
      ]
     },
     "execution_count": 243,
     "metadata": {},
     "output_type": "execute_result"
    }
   ],
   "source": [
    "# set param grid\n",
    "knn_param_grid = {\"n_neighbors\" : [3, 5, 7, 10],\n",
    "                 'weights' : ['uniform', 'distance']}\n",
    "\n",
    "# gridsearch\n",
    "knn_gridsearch = GridSearchCV(estimator = knn_clf,\n",
    "                            param_grid = knn_param_grid,\n",
    "                            scoring = 'accuracy', cv = 5,\n",
    "                            n_jobs = -1)\n",
    "\n",
    "# fitting\n",
    "knn_gridsearch.fit(X_train_resampled, y_train_resampled)\n",
    "\n",
    "# Getting the best hyperparameters for our KNeighborsClassifier\n",
    "knn_gridsearch.best_params_"
   ]
  },
  {
   "cell_type": "markdown",
   "metadata": {},
   "source": [
    "### Iterated KNeighborsClassifier"
   ]
  },
  {
   "cell_type": "code",
   "execution_count": 245,
   "metadata": {},
   "outputs": [
    {
     "data": {
      "text/html": [
       "<style>#sk-container-id-9 {color: black;background-color: white;}#sk-container-id-9 pre{padding: 0;}#sk-container-id-9 div.sk-toggleable {background-color: white;}#sk-container-id-9 label.sk-toggleable__label {cursor: pointer;display: block;width: 100%;margin-bottom: 0;padding: 0.3em;box-sizing: border-box;text-align: center;}#sk-container-id-9 label.sk-toggleable__label-arrow:before {content: \"▸\";float: left;margin-right: 0.25em;color: #696969;}#sk-container-id-9 label.sk-toggleable__label-arrow:hover:before {color: black;}#sk-container-id-9 div.sk-estimator:hover label.sk-toggleable__label-arrow:before {color: black;}#sk-container-id-9 div.sk-toggleable__content {max-height: 0;max-width: 0;overflow: hidden;text-align: left;background-color: #f0f8ff;}#sk-container-id-9 div.sk-toggleable__content pre {margin: 0.2em;color: black;border-radius: 0.25em;background-color: #f0f8ff;}#sk-container-id-9 input.sk-toggleable__control:checked~div.sk-toggleable__content {max-height: 200px;max-width: 100%;overflow: auto;}#sk-container-id-9 input.sk-toggleable__control:checked~label.sk-toggleable__label-arrow:before {content: \"▾\";}#sk-container-id-9 div.sk-estimator input.sk-toggleable__control:checked~label.sk-toggleable__label {background-color: #d4ebff;}#sk-container-id-9 div.sk-label input.sk-toggleable__control:checked~label.sk-toggleable__label {background-color: #d4ebff;}#sk-container-id-9 input.sk-hidden--visually {border: 0;clip: rect(1px 1px 1px 1px);clip: rect(1px, 1px, 1px, 1px);height: 1px;margin: -1px;overflow: hidden;padding: 0;position: absolute;width: 1px;}#sk-container-id-9 div.sk-estimator {font-family: monospace;background-color: #f0f8ff;border: 1px dotted black;border-radius: 0.25em;box-sizing: border-box;margin-bottom: 0.5em;}#sk-container-id-9 div.sk-estimator:hover {background-color: #d4ebff;}#sk-container-id-9 div.sk-parallel-item::after {content: \"\";width: 100%;border-bottom: 1px solid gray;flex-grow: 1;}#sk-container-id-9 div.sk-label:hover label.sk-toggleable__label {background-color: #d4ebff;}#sk-container-id-9 div.sk-serial::before {content: \"\";position: absolute;border-left: 1px solid gray;box-sizing: border-box;top: 0;bottom: 0;left: 50%;z-index: 0;}#sk-container-id-9 div.sk-serial {display: flex;flex-direction: column;align-items: center;background-color: white;padding-right: 0.2em;padding-left: 0.2em;position: relative;}#sk-container-id-9 div.sk-item {position: relative;z-index: 1;}#sk-container-id-9 div.sk-parallel {display: flex;align-items: stretch;justify-content: center;background-color: white;position: relative;}#sk-container-id-9 div.sk-item::before, #sk-container-id-9 div.sk-parallel-item::before {content: \"\";position: absolute;border-left: 1px solid gray;box-sizing: border-box;top: 0;bottom: 0;left: 50%;z-index: -1;}#sk-container-id-9 div.sk-parallel-item {display: flex;flex-direction: column;z-index: 1;position: relative;background-color: white;}#sk-container-id-9 div.sk-parallel-item:first-child::after {align-self: flex-end;width: 50%;}#sk-container-id-9 div.sk-parallel-item:last-child::after {align-self: flex-start;width: 50%;}#sk-container-id-9 div.sk-parallel-item:only-child::after {width: 0;}#sk-container-id-9 div.sk-dashed-wrapped {border: 1px dashed gray;margin: 0 0.4em 0.5em 0.4em;box-sizing: border-box;padding-bottom: 0.4em;background-color: white;}#sk-container-id-9 div.sk-label label {font-family: monospace;font-weight: bold;display: inline-block;line-height: 1.2em;}#sk-container-id-9 div.sk-label-container {text-align: center;}#sk-container-id-9 div.sk-container {/* jupyter's `normalize.less` sets `[hidden] { display: none; }` but bootstrap.min.css set `[hidden] { display: none !important; }` so we also need the `!important` here to be able to override the default hidden behavior on the sphinx rendered scikit-learn.org. See: https://github.com/scikit-learn/scikit-learn/issues/21755 */display: inline-block !important;position: relative;}#sk-container-id-9 div.sk-text-repr-fallback {display: none;}</style><div id=\"sk-container-id-9\" class=\"sk-top-container\"><div class=\"sk-text-repr-fallback\"><pre>KNeighborsClassifier(weights=&#x27;distance&#x27;)</pre><b>In a Jupyter environment, please rerun this cell to show the HTML representation or trust the notebook. <br />On GitHub, the HTML representation is unable to render, please try loading this page with nbviewer.org.</b></div><div class=\"sk-container\" hidden><div class=\"sk-item\"><div class=\"sk-estimator sk-toggleable\"><input class=\"sk-toggleable__control sk-hidden--visually\" id=\"sk-estimator-id-13\" type=\"checkbox\" checked><label for=\"sk-estimator-id-13\" class=\"sk-toggleable__label sk-toggleable__label-arrow\">KNeighborsClassifier</label><div class=\"sk-toggleable__content\"><pre>KNeighborsClassifier(weights=&#x27;distance&#x27;)</pre></div></div></div></div></div>"
      ],
      "text/plain": [
       "KNeighborsClassifier(weights='distance')"
      ]
     },
     "execution_count": 245,
     "metadata": {},
     "output_type": "execute_result"
    }
   ],
   "source": [
    "# Instantiating KNeighborsClassifier model using the best parameters from the grid search\n",
    "\n",
    "best_knn = KNeighborsClassifier(n_neighbors = 5, weights = \"distance\")\n",
    "\n",
    "# Fitting the model\n",
    "best_knn.fit(X_train_resampled,y_train_resampled)"
   ]
  },
  {
   "cell_type": "markdown",
   "metadata": {},
   "source": [
    "#### Evaluating KNeighborsClassifier"
   ]
  },
  {
   "cell_type": "code",
   "execution_count": 251,
   "metadata": {},
   "outputs": [
    {
     "data": {
      "image/png": "[encoded data removed]",
      "text/plain": [
       "<Figure size 432x288 with 2 Axes>"
      ]
     },
     "metadata": {},
     "output_type": "display_data"
    }
   ],
   "source": [
    "# Confusion matrix for trainig data\n",
    "plot_confusion_matrix(best_knn, X_train_resampled, y_train_resampled)\n",
    "plt.show()"
   ]
  },
  {
   "cell_type": "code",
   "execution_count": 252,
   "metadata": {},
   "outputs": [
    {
     "data": {
      "image/png": "[encoded data removed]",
      "text/plain": [
       "<Figure size 432x288 with 2 Axes>"
      ]
     },
     "metadata": {},
     "output_type": "display_data"
    }
   ],
   "source": [
    "# Confusion matrix for testing data\n",
    "plot_confusion_matrix(best_knn, X_test_scaled, y_test_2)\n",
    "plt.show()"
   ]
  },
  {
   "cell_type": "code",
   "execution_count": 253,
   "metadata": {},
   "outputs": [
    {
     "name": "stdout",
     "output_type": "stream",
     "text": [
      "Training Accuracy: 90.22%\n",
      "Validation accuracy: 72.32%\n"
     ]
    }
   ],
   "source": [
    "# Predict on training and test sets\n",
    "best_knn_training_preds = best_knn.predict(X_train_resampled)\n",
    "best_knn_preds = best_knn.predict(X_test_scaled)\n",
    "\n",
    "\n",
    "# Accuracy of training and test sets\n",
    "best_knn_training_accuracy = accuracy_score(y_train_resampled, best_knn_training_preds)\n",
    "best_knn_test_accuracy = accuracy_score(y_test_2, best_knn_preds)\n",
    "\n",
    "print('Training Accuracy: {:.4}%'.format(best_knn_training_accuracy * 100))\n",
    "print('Validation accuracy: {:.4}%'.format(best_knn_test_accuracy * 100))"
   ]
  },
  {
   "cell_type": "code",
   "execution_count": 254,
   "metadata": {},
   "outputs": [
    {
     "name": "stdout",
     "output_type": "stream",
     "text": [
      "Train cross validation: 0.7555643730654845\n",
      "Test cross validation: 0.7300687592684044\n"
     ]
    }
   ],
   "source": [
    "# validate KNeighborsClassifier\n",
    "\n",
    "#train cross validation\n",
    "best_knn_train_cv_score = cross_val_score(best_knn, X_train_resampled,\n",
    "                                        y_train_resampled, cv = 5, n_jobs = -1).mean()\n",
    "print('Train cross validation:', best_knn_train_cv_score)\n",
    "\n",
    "#test cross validation\n",
    "best_knn_test_cv_score = cross_val_score(best_knn, X_test_scaled, y_test_2,\n",
    "                                       cv = 5, n_jobs = -1).mean()\n",
    "print('Test cross validation:', best_knn_test_cv_score)"
   ]
  },
  {
   "cell_type": "markdown",
   "metadata": {},
   "source": [
    "The hyperparameter tuned KNeighborsClassifier seems to be overfitting the training data, but the validation accuracy meets our target.\n",
    "\n",
    "We will use another model to see if the overfitting will reduce."
   ]
  },
  {
   "cell_type": "markdown",
   "metadata": {},
   "source": [
    "### `Gradient Boosting Classifier`"
   ]
  },
  {
   "cell_type": "code",
   "execution_count": 234,
   "metadata": {},
   "outputs": [],
   "source": [
    "# Importing GradientBoostingClassifier library\n",
    "from sklearn.ensemble import GradientBoostingClassifier"
   ]
  },
  {
   "cell_type": "code",
   "execution_count": 269,
   "metadata": {},
   "outputs": [
    {
     "name": "stdout",
     "output_type": "stream",
     "text": [
      "Train accuracy: 70.93876140665002\n",
      "Test accuracy: 66.28561168302609\n"
     ]
    }
   ],
   "source": [
    "#instantiate baseline model\n",
    "gradient_boost_clf = GradientBoostingClassifier(random_state = 21)\n",
    "\n",
    "# fitting GradientBoostingClassifier model\n",
    "gradient_boost_clf.fit(X_train_resampled, y_train_resampled)\n",
    "\n",
    "# predicting the y values\n",
    "y_hat_train = gradient_boost_clf.predict(X_train_resampled)\n",
    "y_hat_test = gradient_boost_clf.predict(X_test_scaled)\n",
    "\n",
    "# train accuracy\n",
    "gradient_boost_train_accuracy_baseline = accuracy_score(y_train_resampled, y_hat_train) * 100\n",
    "print('Train accuracy: {0}'.format(gradient_boost_train_accuracy_baseline))\n",
    "\n",
    "# test accuracy\n",
    "gradient_boost_test_accuracy_baseline = accuracy_score(y_test_2, y_hat_test) * 100\n",
    "print('Test accuracy: {0}'.format(gradient_boost_test_accuracy_baseline))"
   ]
  },
  {
   "cell_type": "markdown",
   "metadata": {},
   "source": [
    "The GradientBoostingClassifier model seems to slightly overfit but it doesn't meet our target range.\n",
    "\n",
    "Thus we will try to tune our hyperparameter to see if we can meet our target range."
   ]
  },
  {
   "cell_type": "code",
   "execution_count": 270,
   "metadata": {},
   "outputs": [
    {
     "data": {
      "text/plain": [
       "{'learning_rate': 0.05, 'subsample': 0.5}"
      ]
     },
     "execution_count": 270,
     "metadata": {},
     "output_type": "execute_result"
    }
   ],
   "source": [
    "# set param grid\n",
    "gradient_boost_param_grid = {'learning_rate': [0.025, 0.05],\n",
    "                            'subsample': [0.5, 1.0]}\n",
    "\n",
    "#gridsearch\n",
    "gradient_boost_gridsearch = GridSearchCV(estimator = gradient_boost_clf,\n",
    "                                        param_grid = gradient_boost_param_grid, \n",
    "                                        scoring = 'accuracy',\n",
    "                                        n_jobs = -1,\n",
    "                                        cv = 5)\n",
    "\n",
    "# fitting the model\n",
    "gradient_boost_gridsearch.fit(X_train_resampled, y_train_resampled)\n",
    "\n",
    "# best param\n",
    "gradient_boost_gridsearch.best_params_"
   ]
  },
  {
   "cell_type": "code",
   "execution_count": 271,
   "metadata": {},
   "outputs": [
    {
     "name": "stdout",
     "output_type": "stream",
     "text": [
      "Train accuracy: 93.02329234007131\n",
      "Test accuracy: 74.35360306440029\n"
     ]
    }
   ],
   "source": [
    "#train a classifier with optimal values identified above\n",
    "gradient_boost_clf = GradientBoostingClassifier(random_state = 21,\n",
    "                                                max_depth = 40,\n",
    "                                                max_features = 'auto',\n",
    "                                                min_samples_leaf = 3,\n",
    "                                                min_samples_split = 8,\n",
    "                                                n_estimators = 100,\n",
    "                                                learning_rate = 0.05,\n",
    "                                                subsample = 0.5)\n",
    "# fitting the model\n",
    "gradient_boost_clf.fit(X_train_resampled, y_train_resampled)\n",
    "\n",
    "#predict\n",
    "y_hat_train = gradient_boost_clf.predict(X_train_resampled)\n",
    "y_hat_test = gradient_boost_clf.predict(X_test_scaled)\n",
    "\n",
    "#train accuracy\n",
    "gradient_boost_train_accuracy = accuracy_score(y_train_resampled, y_hat_train) * 100\n",
    "print('Train accuracy: {0}'.format(gradient_boost_train_accuracy))\n",
    "\n",
    "#test accuracy\n",
    "gradient_boost_test_accuracy = accuracy_score(y_test_2, y_hat_test) * 100\n",
    "print('Test accuracy: {0}'.format(gradient_boost_test_accuracy))"
   ]
  },
  {
   "cell_type": "code",
   "execution_count": 272,
   "metadata": {},
   "outputs": [
    {
     "name": "stdout",
     "output_type": "stream",
     "text": [
      "Logistic regression baseline model \n",
      "\n",
      "Training Accuracy: 62.55%\n",
      "Validation accuracy: 60.88% \n",
      "\n",
      "Tuned Logistic regression \n",
      "\n",
      "Training Accuracy: 62.54%\n",
      "Validation accuracy: 61.08% \n",
      "\n",
      "Random Forest baseline model \n",
      "\n",
      "Training Accuracy: 93.21%\n",
      "Validation accuracy: 73.95% \n",
      "\n",
      "Tuned Random Forest  \n",
      "\n",
      "Training Accuracy: 49.13%\n",
      "Validation accuracy: 71.48% \n",
      "\n",
      "KNearestNeighbors baseline model  \n",
      "\n",
      "Train accuracy: 80.093923259357\n",
      "Test accuracy: 71.15154417045727 \n",
      "\n",
      "Tuned KNeighborsClassifier \n",
      "\n",
      "Training Accuracy: 90.22%\n",
      "Validation accuracy: 72.32% \n",
      "\n",
      "GradientBoostingClassifier Baseline model \n",
      "\n",
      "Train accuracy: 70.93876140665002\n",
      "Test accuracy: 66.28561168302609 \n",
      "\n",
      "Tuned GradientBoostingClassifier \n",
      "\n",
      "Train accuracy: 93.02329234007131\n",
      "Test accuracy: 74.35360306440029\n"
     ]
    }
   ],
   "source": [
    "print(\"Logistic regression baseline model\",\"\\n\")\n",
    "print('Training Accuracy: {:.4}%'.format(log_training_accuracy * 100))\n",
    "print('Validation accuracy: {:.4}%'.format(log_test_accuracy * 100),\"\\n\")\n",
    "print(\"Tuned Logistic regression\",\"\\n\")\n",
    "print('Training Accuracy: {:.4}%'.format(best_logreg_training_accuracy * 100))\n",
    "print('Validation accuracy: {:.4}%'.format(best_logreg_test_accuracy * 100),\"\\n\")\n",
    "print(\"Random Forest baseline model\",\"\\n\")\n",
    "print('Training Accuracy: {:.4}%'.format(RF_training_accuracy * 100))\n",
    "print('Validation accuracy: {:.4}%'.format(RF_test_accuracy * 100),\"\\n\")\n",
    "print(\"Tuned Random Forest \",\"\\n\")\n",
    "print('Training Accuracy: {:.4}%'.format(best_forest_training_accuracy * 100))\n",
    "print('Validation accuracy: {:.4}%'.format(best_forest_test_accuracy * 100),\"\\n\")\n",
    "print(\"KNearestNeighbors baseline model \",\"\\n\")\n",
    "print('Train accuracy: {0}'.format(knn_train_accuracy))\n",
    "print('Test accuracy: {0}'.format(knn_test_accuracy),\"\\n\")\n",
    "print(\"Tuned KNeighborsClassifier\",\"\\n\")\n",
    "print('Training Accuracy: {:.4}%'.format(best_knn_training_accuracy * 100))\n",
    "print('Validation accuracy: {:.4}%'.format(best_knn_test_accuracy * 100),\"\\n\")\n",
    "print(\"GradientBoostingClassifier Baseline model\",\"\\n\")\n",
    "print('Train accuracy: {0}'.format(gradient_boost_train_accuracy_baseline))\n",
    "print('Test accuracy: {0}'.format(gradient_boost_test_accuracy_baseline),\"\\n\")\n",
    "print(\"Tuned GradientBoostingClassifier\",\"\\n\")\n",
    "print('Train accuracy: {0}'.format(gradient_boost_train_accuracy))\n",
    "print('Test accuracy: {0}'.format(gradient_boost_test_accuracy))"
   ]
  },
  {
   "cell_type": "markdown",
   "metadata": {},
   "source": [
    "## Evaluation and interpretation of the best model\n",
    "The best overall model is the KNeighborsClassifier baseline model. This model has an accuracy of 71% on the testing data. This implies that if a class is predicted as functional this will be correct 71% of the time. This model was selected because it didn't have the highest training accuracy nor validation accuracy score it had the most minor difference between the training and the validation accuracy therefore the model will not perform very poorly when unseen data is used. It is the least overfitting model that meets our success criteria."
   ]
  }
 ],
 "metadata": {
  "kernelspec": {
   "display_name": "Python (learn-env)",
   "language": "python",
   "name": "learn-env"
  },
  "language_info": {
   "codemirror_mode": {
    "name": "ipython",
    "version": 3
   },
   "file_extension": ".py",
   "mimetype": "text/x-python",
   "name": "python",
   "nbconvert_exporter": "python",
   "pygments_lexer": "ipython3",
   "version": "3.9.12"
  }
 },
 "nbformat": 4,
 "nbformat_minor": 4
}
